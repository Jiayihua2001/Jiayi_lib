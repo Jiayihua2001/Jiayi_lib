{
 "cells": [
  {
   "cell_type": "code",
   "execution_count": null,
   "metadata": {},
   "outputs": [],
   "source": []
  },
  {
   "cell_type": "markdown",
   "metadata": {},
   "source": [
    "Ase basic training\n",
    "# part1  numpy array"
   ]
  },
  {
   "cell_type": "code",
   "execution_count": 8,
   "metadata": {},
   "outputs": [
    {
     "name": "stdout",
     "output_type": "stream",
     "text": [
      "[[0. 3. 0.]\n",
      " [5. 5. 5.]]\n",
      "(2, 3)\n",
      "2\n"
     ]
    }
   ],
   "source": [
    "import numpy as np\n",
    "a = np.zeros((2,3))\n",
    "a[:,1]=3\n",
    "a[1] = 5\n",
    "print(a)\n",
    "\n",
    "print(a.shape)\n",
    "print(a.ndim)"
   ]
  },
  {
   "cell_type": "code",
   "execution_count": 16,
   "metadata": {},
   "outputs": [
    {
     "name": "stdout",
     "output_type": "stream",
     "text": [
      "[[1.85662816+0.j         0.66507389+0.54858653j 1.3928461 -0.2081123j\n",
      "  0.3939532 -0.10921454j 1.70544004-0.25426471j 0.92525921-0.28207304j]\n",
      " [0.66507389-0.54858653j 0.91330313+0.j         1.21174528+0.38333084j\n",
      "  1.69638416+0.54702698j 1.61988342+0.17598066j 0.93304477-0.03955236j]\n",
      " [1.3928461 +0.2081123j  1.21174528-0.38333084j 0.72807478+0.j\n",
      "  0.57622579+0.47843793j 0.42850745+0.38087669j 0.66977785+0.63311175j]\n",
      " [0.3939532 +0.10921454j 1.69638416-0.54702698j 0.57622579-0.47843793j\n",
      "  1.38553087+0.j         0.9374565 +0.62725513j 1.2994219 -0.21258067j]\n",
      " [1.70544004+0.25426471j 1.61988342-0.17598066j 0.42850745-0.38087669j\n",
      "  0.9374565 -0.62725513j 1.54741104+0.j         0.6117725 -0.34906404j]\n",
      " [0.92525921+0.28207304j 0.93304477+0.03955236j 0.66977785-0.63311175j\n",
      "  1.2994219 +0.21258067j 0.6117725 +0.34906404j 1.11908201+0.j        ]]\n"
     ]
    },
    {
     "data": {
      "text/plain": [
       "(6, 6)"
      ]
     },
     "execution_count": 16,
     "metadata": {},
     "output_type": "execute_result"
    }
   ],
   "source": [
    "#linear algebra\n",
    "import numpy as np\n",
    "#make a random hermitian matrix, H\n",
    "H = np.random.rand(6,6) + 1.j*np.random.rand(6,6)\n",
    "H =  H + H.T.conj()\n",
    "print(H)\n",
    "H.shape"
   ]
  },
  {
   "cell_type": "code",
   "execution_count": 23,
   "metadata": {},
   "outputs": [
    {
     "name": "stdout",
     "output_type": "stream",
     "text": [
      "eigenvalue:[-1.75334211 -0.55152006  0.1516007   1.08166545  2.14674948  6.47487653]\n",
      "rotation matrix:[[-0.37100912+0.j          0.38336116+0.j          0.17829395+0.j\n",
      "   0.30598561+0.j         -0.63533527+0.j         -0.43164756+0.j        ]\n",
      " [-0.37208119-0.51496068j -0.26084292-0.08361282j  0.1036072 +0.00157204j\n",
      "  -0.48366213-0.10884254j  0.1516357 +0.22561133j -0.43510533-0.0402217j ]\n",
      " [ 0.47896013+0.02830423j -0.22257994-0.00772861j  0.32244177-0.41772484j\n",
      "   0.01815351+0.53558277j -0.10014118+0.18684465j -0.31590525-0.09908584j]\n",
      " [ 0.21994356+0.09257434j  0.68117234+0.01566311j  0.06825764+0.04980813j\n",
      "  -0.09853628-0.04218984j  0.535202  -0.05261092j -0.41348437+0.00244478j]\n",
      " [ 0.23809641+0.30041465j -0.21704313+0.1468386j  -0.55288493-0.06495312j\n",
      "  -0.2748762 -0.23509389j -0.24837396-0.2649213j  -0.45505947+0.06865182j]\n",
      " [ 0.0085108 +0.15672556j -0.3941266 -0.20039054j  0.02520547+0.60111204j\n",
      "   0.47532951+0.07186802j  0.2365495 +0.02187174j -0.35816416-0.0456373j ]]\n"
     ]
    },
    {
     "data": {
      "text/plain": [
       "(6, 6)"
      ]
     },
     "execution_count": 23,
     "metadata": {},
     "output_type": "execute_result"
    }
   ],
   "source": [
    "# Determine eigenvalues and rotation matrix\n",
    "eps,U =np.linalg.eigh(H)\n",
    "print(\"eigenvalue:\" + str(eps))\n",
    "print(\"rotation matrix:\"+str(U) )\n",
    "U.shape"
   ]
  },
  {
   "cell_type": "code",
   "execution_count": 44,
   "metadata": {},
   "outputs": [
    {
     "name": "stdout",
     "output_type": "stream",
     "text": [
      "[[ 2  3  4  5  6  7]\n",
      " [ 8  9 10 11 12 13]\n",
      " [14 15 16 17 18 19]\n",
      " [20 21 22 23 24 25]\n",
      " [26 27 28 29 30 31]]\n",
      "[[ 4  6  8 10 12 14]\n",
      " [16 18 20 22 24 26]\n",
      " [28 30 32 34 36 38]\n",
      " [40 42 44 46 48 50]\n",
      " [52 54 56 58 60 62]]\n",
      "17\n"
     ]
    }
   ],
   "source": [
    "M = np.arange(2,32).reshape(5,6)\n",
    "print(M)\n",
    "v5= np.arange(5)\n",
    "v5c =v5[:,None] #column vector\n",
    "v5r = v5[None,:]\n",
    "\n",
    "# iterate through rows\n",
    "for i in range(len(X)):\n",
    "   # iterate through columns\n",
    "   for j in range(len(X[0])):\n",
    "       result[i][j] = X[i][j] + Y[i][j]\n",
    "\n",
    "for r in result:\n",
    "   print(r)\n",
    "   "
   ]
  },
  {
   "cell_type": "code",
   "execution_count": 65,
   "metadata": {},
   "outputs": [
    {
     "name": "stdout",
     "output_type": "stream",
     "text": [
      "                Step[ FC]     Time          Energy          fmax\n",
      "*Force-consistent energies used in optimization.\n",
      "BFGSLineSearch:    0[  0] 14:55:36       11.689927*       1.0797\n",
      "BFGSLineSearch:    1[  2] 14:55:36       11.670814*       0.4090\n",
      "BFGSLineSearch:    2[  4] 14:55:36       11.625880*       0.0409\n",
      "11.625880434287865\n"
     ]
    },
    {
     "data": {
      "text/plain": [
       "<Popen: returncode: None args: ['/Users/dell/anaconda3/envs/ase/bin/python',...>"
      ]
     },
     "execution_count": 65,
     "metadata": {},
     "output_type": "execute_result"
    }
   ],
   "source": [
    "# an ase example\n",
    "from  ase import Atoms\n",
    "from ase.build import fcc111,add_adsorbate\n",
    "from ase.visualize import view\n",
    "from ase.calculators.emt import  EMT\n",
    "d= 1.10\n",
    "molecule = Atoms('2N',positions=[(0,0,0),(0,0,d)])\n",
    "slab= fcc111('Cu',size=(4,4,2),vacuum=10)\n",
    "\n",
    "\n",
    "#attach a calculator to object\n",
    "slab.calc = EMT()\n",
    "molecule.calc = EMT()\n",
    "\n",
    "\n",
    "\n",
    "#add N2 to the copper slab\n",
    "h=1.85\n",
    "add_adsorbate(slab,molecule,h,\"ontop\")\n",
    "\n",
    "# relexation of structure\n",
    "#fix slab, only move molecule\n",
    "from ase.constraints import FixAtoms\n",
    "constraint =FixAtoms(mask=[a.symbol != \"N\" for a in slab])\n",
    "slab.set_constraint(constraint)\n",
    "\n",
    "#quasinewton minimizer  optimizer\n",
    "from ase.optimize import QuasiNewton\n",
    "dyn = QuasiNewton(slab)\n",
    "dyn.run(fmax= 0.05)\n",
    "\n",
    "#calculate the potential\n",
    "\n",
    "e_slab = slab.get_potential_energy()\n",
    "e_N2 = molecule.get_potential_energy()\n",
    "\n",
    "print(e_slab)\n",
    "view(slab)"
   ]
  },
  {
   "cell_type": "code",
   "execution_count": 71,
   "metadata": {},
   "outputs": [
    {
     "ename": "OSError",
     "evalue": "[Errno 30] Read-only file system: 'slab.traj'",
     "output_type": "error",
     "traceback": [
      "\u001b[0;31m---------------------------------------------------------------------------\u001b[0m",
      "\u001b[0;31mOSError\u001b[0m                                   Traceback (most recent call last)",
      "Cell \u001b[0;32mIn[71], line 3\u001b[0m\n\u001b[1;32m      1\u001b[0m \u001b[39m#ase files\u001b[39;00m\n\u001b[1;32m      2\u001b[0m \u001b[39mfrom\u001b[39;00m \u001b[39mase\u001b[39;00m\u001b[39m.\u001b[39;00m\u001b[39mio\u001b[39;00m \u001b[39mimport\u001b[39;00m write\n\u001b[0;32m----> 3\u001b[0m write(\u001b[39m'\u001b[39;49m\u001b[39mslab.traj\u001b[39;49m\u001b[39m'\u001b[39;49m,slab)\n",
      "File \u001b[0;32m~/.local/lib/python3.9/site-packages/ase/io/formats.py:628\u001b[0m, in \u001b[0;36mwrite\u001b[0;34m(filename, images, format, parallel, append, **kwargs)\u001b[0m\n\u001b[1;32m    624\u001b[0m \u001b[39mformat\u001b[39m \u001b[39m=\u001b[39m \u001b[39mformat\u001b[39m \u001b[39mor\u001b[39;00m \u001b[39m'\u001b[39m\u001b[39mjson\u001b[39m\u001b[39m'\u001b[39m  \u001b[39m# default is json\u001b[39;00m\n\u001b[1;32m    626\u001b[0m io \u001b[39m=\u001b[39m get_ioformat(\u001b[39mformat\u001b[39m)\n\u001b[0;32m--> 628\u001b[0m \u001b[39mreturn\u001b[39;00m _write(filename, fd, \u001b[39mformat\u001b[39;49m, io, images,\n\u001b[1;32m    629\u001b[0m               parallel\u001b[39m=\u001b[39;49mparallel, append\u001b[39m=\u001b[39;49mappend, \u001b[39m*\u001b[39;49m\u001b[39m*\u001b[39;49mkwargs)\n",
      "File \u001b[0;32m~/.local/lib/python3.9/site-packages/ase/parallel.py:244\u001b[0m, in \u001b[0;36mparallel_function.<locals>.new_func\u001b[0;34m(*args, **kwargs)\u001b[0m\n\u001b[1;32m    238\u001b[0m \u001b[39m@functools\u001b[39m\u001b[39m.\u001b[39mwraps(func)\n\u001b[1;32m    239\u001b[0m \u001b[39mdef\u001b[39;00m \u001b[39mnew_func\u001b[39m(\u001b[39m*\u001b[39margs, \u001b[39m*\u001b[39m\u001b[39m*\u001b[39mkwargs):\n\u001b[1;32m    240\u001b[0m     \u001b[39mif\u001b[39;00m (world\u001b[39m.\u001b[39msize \u001b[39m==\u001b[39m \u001b[39m1\u001b[39m \u001b[39mor\u001b[39;00m\n\u001b[1;32m    241\u001b[0m         args \u001b[39mand\u001b[39;00m \u001b[39mgetattr\u001b[39m(args[\u001b[39m0\u001b[39m], \u001b[39m'\u001b[39m\u001b[39mserial\u001b[39m\u001b[39m'\u001b[39m, \u001b[39mFalse\u001b[39;00m) \u001b[39mor\u001b[39;00m\n\u001b[1;32m    242\u001b[0m         \u001b[39mnot\u001b[39;00m kwargs\u001b[39m.\u001b[39mpop(\u001b[39m'\u001b[39m\u001b[39mparallel\u001b[39m\u001b[39m'\u001b[39m, \u001b[39mTrue\u001b[39;00m)):\n\u001b[1;32m    243\u001b[0m         \u001b[39m# Disable:\u001b[39;00m\n\u001b[0;32m--> 244\u001b[0m         \u001b[39mreturn\u001b[39;00m func(\u001b[39m*\u001b[39;49margs, \u001b[39m*\u001b[39;49m\u001b[39m*\u001b[39;49mkwargs)\n\u001b[1;32m    246\u001b[0m     ex \u001b[39m=\u001b[39m \u001b[39mNone\u001b[39;00m\n\u001b[1;32m    247\u001b[0m     result \u001b[39m=\u001b[39m \u001b[39mNone\u001b[39;00m\n",
      "File \u001b[0;32m~/.local/lib/python3.9/site-packages/ase/io/formats.py:661\u001b[0m, in \u001b[0;36m_write\u001b[0;34m(filename, fd, format, io, images, parallel, append, **kwargs)\u001b[0m\n\u001b[1;32m    659\u001b[0m     \u001b[39mif\u001b[39;00m append:\n\u001b[1;32m    660\u001b[0m         mode \u001b[39m=\u001b[39m mode\u001b[39m.\u001b[39mreplace(\u001b[39m'\u001b[39m\u001b[39mw\u001b[39m\u001b[39m'\u001b[39m, \u001b[39m'\u001b[39m\u001b[39ma\u001b[39m\u001b[39m'\u001b[39m)\n\u001b[0;32m--> 661\u001b[0m     fd \u001b[39m=\u001b[39m open_with_compression(filename, mode)\n\u001b[1;32m    662\u001b[0m     \u001b[39m# XXX remember to re-enable compressed open\u001b[39;00m\n\u001b[1;32m    663\u001b[0m     \u001b[39m# fd = io.open(filename, mode)\u001b[39;00m\n\u001b[1;32m    664\u001b[0m \u001b[39mreturn\u001b[39;00m io\u001b[39m.\u001b[39mwrite(fd, images, \u001b[39m*\u001b[39m\u001b[39m*\u001b[39mkwargs)\n",
      "File \u001b[0;32m~/.local/lib/python3.9/site-packages/ase/io/formats.py:551\u001b[0m, in \u001b[0;36mopen_with_compression\u001b[0;34m(filename, mode)\u001b[0m\n\u001b[1;32m    548\u001b[0m     \u001b[39mreturn\u001b[39;00m lzma\u001b[39m.\u001b[39mopen(filename, mode)\n\u001b[1;32m    549\u001b[0m \u001b[39melse\u001b[39;00m:\n\u001b[1;32m    550\u001b[0m     \u001b[39m# Either None or unknown string\u001b[39;00m\n\u001b[0;32m--> 551\u001b[0m     \u001b[39mreturn\u001b[39;00m \u001b[39mopen\u001b[39;49m(filename, mode)\n",
      "\u001b[0;31mOSError\u001b[0m: [Errno 30] Read-only file system: 'slab.traj'"
     ]
    }
   ],
   "source": [
    "#ase files\n",
    "from ase.io import write\n",
    "write('slab.traj',slab)"
   ]
  }
 ],
 "metadata": {
  "kernelspec": {
   "display_name": "ase",
   "language": "python",
   "name": "python3"
  },
  "language_info": {
   "codemirror_mode": {
    "name": "ipython",
    "version": 3
   },
   "file_extension": ".py",
   "mimetype": "text/x-python",
   "name": "python",
   "nbconvert_exporter": "python",
   "pygments_lexer": "ipython3",
   "version": "3.9.6"
  },
  "orig_nbformat": 4
 },
 "nbformat": 4,
 "nbformat_minor": 2
}
